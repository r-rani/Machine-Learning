{
 "cells": [
  {
   "cell_type": "code",
   "execution_count": 3,
   "id": "3561aaad-76c6-4606-84fa-46986b12adb6",
   "metadata": {},
   "outputs": [],
   "source": [
    "import numpy as np\n",
    "import matplotlib.pyplot as plt\n",
    "import pandas as pd\n",
    "from sklearn.preprocessing import StandardScaler "
   ]
  },
  {
   "cell_type": "code",
   "execution_count": 5,
   "id": "2f3e787f-ed1e-40e7-8bcf-f0a773ada32b",
   "metadata": {},
   "outputs": [],
   "source": [
    "#variables \n",
    "SEED = 1161\n",
    "N_TRAIN = 9\n",
    "N_VALID = 100\n",
    "N_TEST  = 100\n",
    "Ms = [1, 2, 3, 4, 5, 6, 7, 8]"
   ]
  },
  {
   "cell_type": "code",
   "execution_count": 6,
   "id": "d5c526d5-22c5-4002-b1cb-8579c600dab5",
   "metadata": {},
   "outputs": [],
   "source": [
    "#Equations \n",
    "def f_opt(x):\n",
    "    return np.sin(2.0 * np.pi * x)"
   ]
  },
  {
   "cell_type": "code",
   "execution_count": 7,
   "id": "abe0a22e-1fe8-42b8-8ae0-f8ff502a962a",
   "metadata": {},
   "outputs": [],
   "source": [
    "#Generate the test, vaildation, and training set \n",
    "def generate_sets(seed, N_train, N_valid, N_test):\n",
    "    x_tr = np.linspace(0, 1, N_train)\n",
    "    x_va = np.linspace(0, 1, N_valid)\n",
    "    x_te =np.linspace(0, 1, N_test)\n",
    "    np.random.randn(seed)\n",
    "    t_tr = f_opt(x_tr) + 0.2*np.random.randn(N_train)\n",
    "    t_va = f_opt(x_va) + 0.2*np.random.randn(N_valid)\n",
    "    t_te = f_opt(x_te) + 0.2*np.random.randn(N_test)\n",
    "    return x_tr, t_tr, x_va, t_va, x_te, t_te"
   ]
  },
  {
   "cell_type": "code",
   "execution_count": 8,
   "id": "ca3c4b8f-3f3a-4af2-ae00-33bc5c5abd80",
   "metadata": {},
   "outputs": [],
   "source": [
    "def design_matrix(x, M):\n",
    "    return np.vstack([x**m for m in range(M + 1)]).T"
   ]
  },
  {
   "cell_type": "code",
   "execution_count": 9,
   "id": "c0101805-7180-4578-a0c3-aaf5cdb1f14c",
   "metadata": {},
   "outputs": [],
   "source": [
    "def fit_least_squares(x, t):\n",
    "    A=np.dot(x.T, x)\n",
    "    A1=np.linalg.inv(A)\n",
    "    b=np.dot(x.T, t)\n",
    "    w=np.dot(A1,b)\n",
    "    return w"
   ]
  },
  {
   "cell_type": "code",
   "execution_count": null,
   "id": "a30471f3-7e59-4ee4-8523-bc4994f68f46",
   "metadata": {},
   "outputs": [],
   "source": [
    "def rmse(y_true, y_pred):\n",
    "    return float(np.sqrt(np.mean((y_true - y_pred) ** 2)))"
   ]
  },
  {
   "cell_type": "code",
   "execution_count": null,
   "id": "75279061-9439-4ef4-8b97-495e9480ce27",
   "metadata": {},
   "outputs": [],
   "source": [
    "def standardized1 ("
   ]
  },
  {
   "cell_type": "code",
   "execution_count": null,
   "id": "355e4dcf-bdbf-4b6a-a1eb-6574df1506ce",
   "metadata": {},
   "outputs": [],
   "source": [
    "def standardize (XX_train, XX_valid):\n",
    "    sc = StandardScaler()\n",
    "    XX_train = sc.fit_transform(XX_train)\n",
    "    XX_valid = sc.transform(XX_valid)\n",
    "    return XX_train, XX_valid\n"
   ]
  },
  {
   "cell_type": "code",
   "execution_count": null,
   "id": "72d77758-d2e5-40c7-a0c0-37c0d084d846",
   "metadata": {},
   "outputs": [],
   "source": [
    "def L2reg (x_st, lam, t, size):\n",
    "    B_small = diag(2*lam)\n",
    "    B_size = size+1\n",
    "    N = x_st.shape\n",
    "    new_col = np.zeros(B_size)\n",
    "    B = np.insert(B_small, 0, new_col, axis=1)\n",
    "    A=np.dot(x_st.T, x_st)\n",
    "    A1 = A + (N/2)*B\n",
    "    A2 = np.linalg.inv(A1)\n",
    "    A3 = np.dot(A2,x_st.T)\n",
    "    w_L2 = np.dot(A3,t)\n",
    "    return w_L2"
   ]
  },
  {
   "cell_type": "code",
   "execution_count": null,
   "id": "759cadca-4265-4005-94e2-9641635f80c1",
   "metadata": {},
   "outputs": [],
   "source": [
    "def main():\n",
    "    x_tr, t_tr, x_va, t_va, x_te, t_te = generate_sets(SEED, N_TRAIN, N_VALID, N_TEST)\n",
    "    #init for in loop\n",
    "    rmse_train_list = []\n",
    "    rmse_valid_list = []\n",
    "    for M in Ms:\n",
    "        # Design matrices\n",
    "        w_x_tr = design_matrix(x_tr, M)\n",
    "        w_x_va = design_matrix(x_va, M)\n",
    "\n",
    "        w = fit_least_squares(w_x_tr, t_tr)\n",
    "\n",
    "        # Predictions\n",
    "        y_tr = np.dot(w_x_tr, w)\n",
    "        y_va = np.dot(w_x_va, w)\n",
    "\n",
    "        # RMSE\n",
    "        r_tr = rmse(t_tr, y_tr)\n",
    "        r_va = rmse(t_va, y_va)\n",
    "        \n",
    "\n",
    "        #plot\n",
    "        title=f\"Unregularized polynomial fit (M={M})\",\n",
    "        plt.scatter(x_tr, t_tr, color='magenta')\n",
    "        plt.scatter(x_tr, y_train_plot, color='green') #y_one is predicted values\n",
    "        plt.scatter(X_test[:,2], t_test, color='blue') #test data \n",
    "        plt.show()\n"
   ]
  },
  {
   "cell_type": "code",
   "execution_count": null,
   "id": "c7b02c3b-a6b9-4125-a522-76b45f6b2c62",
   "metadata": {},
   "outputs": [],
   "source": [
    "    x_tr, t_tr, x_va, t_va, x_te, t_te = generate_sets(SEED, N_TRAIN, N_VALID, N_TEST)\n",
    "    #init for in loop\n",
    "    rmse_train_list = []\n",
    "    rmse_valid_list = []\n",
    "    M = 9\n",
    "    # Design matrices\n",
    "    w_x_tr = design_matrix(x_tr, M)\n",
    "    w_x_va = design_matrix(x_va, M)\n",
    "\n",
    "    w = fit_least_squares(w_x_tr, t_tr)\n",
    "\n",
    "    # Predictions\n",
    "    y_tr = np.dot(w_x_tr, w)\n",
    "    y_va = np.dot(w_x_va, w)\n",
    "\n",
    "    # RMSE\n",
    "    r_tr = rmse(t_tr, y_tr)\n",
    "    r_va = rmse(t_va, y_va)\n",
    "    print(r_tr)\n",
    "\n",
    "\n",
    "    #plot\n",
    "    title=f\"Unregularized polynomial fit (M={M})\",\n",
    "\n",
    "    plt.scatter(x_tr, t_tr, color='magenta')\n",
    "    plt.plot(x_tr, y_tr, color='green') #y_one is predicted values\n",
    "    plt.plot(x_tr, y_tr, color='green') #y_one is predicted values\n",
    "    plt.scatter(x_te, t_te, color='blue') #test data \n",
    "    plt.show()\n"
   ]
  },
  {
   "cell_type": "code",
   "execution_count": null,
   "id": "a5ac3eb3-b240-4073-b55a-1cefe22b103d",
   "metadata": {},
   "outputs": [],
   "source": [
    "#do lambdas for M=9. in bishops the 3 lambdas are ln(lam) = -infiniti, -18, 0) so (0, e^-18, 1)\n",
    "e= 2.71828\n",
    "# = [0, e^-18, 0]\n",
    "lamb = -14\n",
    "w_tr = design_matrix(x_tr, M)\n",
    "w_va = design_matrix(x_va, M)\n",
    "#standardize\n",
    "x_tr_st,x_va_st= standardize (x_tr, x_va)\n",
    "#L2 regulaization \n",
    "size = w.shape\n",
    "w_tr_reg = L2reg(x_tr_st, lamb,t_tr, size)\n",
    "y_tr = np.dot(w_tr ,w_tr_reg)\n",
    "y_val = np.dot(w_va ,w_tr_reg)\n"
   ]
  },
  {
   "cell_type": "code",
   "execution_count": 58,
   "id": "3502b7ea-79b3-4be6-913d-96ffd57a1c50",
   "metadata": {},
   "outputs": [],
   "source": [
    "#Questions\n",
    "#how to chose Lambda \n",
    "#What to do with the validation set \n",
    "#how to make graph smoother\n"
   ]
  },
  {
   "cell_type": "code",
   "execution_count": null,
   "id": "3ec33e69-8cad-4250-bd4d-2c579b5106ab",
   "metadata": {},
   "outputs": [],
   "source": [
    "#todo\n",
    "#make the standardize function on your own \n",
    "#book meeting TA\n"
   ]
  }
 ],
 "metadata": {
  "kernelspec": {
   "display_name": "Python (base)",
   "language": "python",
   "name": "myenv"
  },
  "language_info": {
   "codemirror_mode": {
    "name": "ipython",
    "version": 3
   },
   "file_extension": ".py",
   "mimetype": "text/x-python",
   "name": "python",
   "nbconvert_exporter": "python",
   "pygments_lexer": "ipython3",
   "version": "3.13.5"
  }
 },
 "nbformat": 4,
 "nbformat_minor": 5
}
