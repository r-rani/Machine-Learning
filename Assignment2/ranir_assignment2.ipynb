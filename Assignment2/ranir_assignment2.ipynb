{
 "cells": [
  {
   "cell_type": "code",
   "execution_count": 1,
   "id": "c33b5e19-49b1-4c89-ac19-26320c1d63ab",
   "metadata": {},
   "outputs": [],
   "source": [
    "import numpy as np\n",
    "import matplotlib.pyplot as plt\n",
    "import pandas as pd"
   ]
  },
  {
   "cell_type": "code",
   "execution_count": 3,
   "id": "0b2b5667-ff6a-4dcf-9a79-bcfa1fbd01f1",
   "metadata": {},
   "outputs": [],
   "source": [
    "#variables \n",
    "seed = 1161\n",
    "N_train = 201\n",
    "N_test = 101\n",
    "K = np.arange(1,61)\n",
    "N_fold = 5"
   ]
  },
  {
   "cell_type": "code",
   "execution_count": 4,
   "id": "70023c3e-a0a1-4e0b-8936-cc0b61b29a63",
   "metadata": {},
   "outputs": [],
   "source": [
    "#Equations \n",
    "def f_opt(x):\n",
    "    return np.sin(2.0 * np.pi * x)"
   ]
  },
  {
   "cell_type": "code",
   "execution_count": 3,
   "id": "4f7cb015-ae9c-4161-bd31-31e21a203a36",
   "metadata": {},
   "outputs": [],
   "source": [
    "#Generate the test, vaildation, and training set \n",
    "def generate_sets(seed, N_train, N_test):\n",
    "    x_tr = np.linspace(0, 1, N_train)\n",
    "    x_te =np.linspace(0, 1, N_test)\n",
    "    np.random.randn(seed)\n",
    "    t_tr = f_opt(x_tr) + 0.2*np.random.randn(N_train)\n",
    "    t_te = f_opt(x_te) + 0.2*np.random.randn(N_test)\n",
    "    return x_tr, t_tr, x_va, t_va, x_te, t_te"
   ]
  },
  {
   "cell_type": "code",
   "execution_count": null,
   "id": "997cfe22-42ff-4d85-bd47-c6cbcb8af01d",
   "metadata": {},
   "outputs": [],
   "source": [
    "def eucladian_distance (A, B, k):\n",
    "    \n",
    "    \n",
    "    "
   ]
  }
 ],
 "metadata": {
  "kernelspec": {
   "display_name": "Python (base)",
   "language": "python",
   "name": "myenv"
  },
  "language_info": {
   "codemirror_mode": {
    "name": "ipython",
    "version": 3
   },
   "file_extension": ".py",
   "mimetype": "text/x-python",
   "name": "python",
   "nbconvert_exporter": "python",
   "pygments_lexer": "ipython3",
   "version": "3.13.5"
  }
 },
 "nbformat": 4,
 "nbformat_minor": 5
}
